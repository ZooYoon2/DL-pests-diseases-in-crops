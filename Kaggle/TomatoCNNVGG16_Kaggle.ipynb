{
 "cells": [
  {
   "cell_type": "code",
   "execution_count": 1,
   "id": "483892d0",
   "metadata": {},
   "outputs": [],
   "source": [
    "import tensorflow as tf\n",
    "from tensorflow.keras.layers import Input, Dense, Flatten, Dropout\n",
    "from tensorflow.keras import Model\n",
    "from tensorflow.keras.applications.vgg16 import VGG16\n",
    "from tensorflow.keras.preprocessing import image\n",
    "from tensorflow.keras.models import Sequential\n",
    "import numpy as np"
   ]
  },
  {
   "cell_type": "code",
   "execution_count": 2,
   "id": "37f2b929",
   "metadata": {},
   "outputs": [],
   "source": [
    "image_size = [224, 224]\n",
    "vgg = VGG16(input_shape = image_size + [3], weights = 'imagenet', include_top =  False)"
   ]
  },
  {
   "cell_type": "code",
   "execution_count": 3,
   "id": "c7f6c8ab",
   "metadata": {},
   "outputs": [],
   "source": [
    "for layer in vgg.layers:\n",
    "    layer.trainable = False"
   ]
  },
  {
   "cell_type": "code",
   "execution_count": 4,
   "id": "29b07cec",
   "metadata": {},
   "outputs": [
    {
     "data": {
      "text/plain": [
       "['D:/ST/trainData/Tomato_kaggle_train\\\\Tomato___Bacterial_spot',\n",
       " 'D:/ST/trainData/Tomato_kaggle_train\\\\Tomato___Early_blight',\n",
       " 'D:/ST/trainData/Tomato_kaggle_train\\\\Tomato___healthy',\n",
       " 'D:/ST/trainData/Tomato_kaggle_train\\\\Tomato___Late_blight',\n",
       " 'D:/ST/trainData/Tomato_kaggle_train\\\\Tomato___Leaf_Mold',\n",
       " 'D:/ST/trainData/Tomato_kaggle_train\\\\Tomato___Septoria_leaf_spot',\n",
       " 'D:/ST/trainData/Tomato_kaggle_train\\\\Tomato___Spider_mites Two-spotted_spider_mite',\n",
       " 'D:/ST/trainData/Tomato_kaggle_train\\\\Tomato___Target_Spot',\n",
       " 'D:/ST/trainData/Tomato_kaggle_train\\\\Tomato___Tomato_mosaic_virus',\n",
       " 'D:/ST/trainData/Tomato_kaggle_train\\\\Tomato___Tomato_Yellow_Leaf_Curl_Virus']"
      ]
     },
     "execution_count": 4,
     "metadata": {},
     "output_type": "execute_result"
    }
   ],
   "source": [
    "from glob import glob\n",
    "folders = glob('D:/ST/trainData/Tomato_kaggle_train/*')\n",
    "folders"
   ]
  },
  {
   "cell_type": "code",
   "execution_count": 5,
   "id": "d04b386a",
   "metadata": {},
   "outputs": [],
   "source": [
    "outlayer = Flatten()(vgg.output)\n",
    "outlayer = Dense(4096, activation='relu',name='fc1')(outlayer)\n",
    "outlayer = Dropout(0.5)(outlayer)\n",
    "outlayer = Dense(4096, activation='relu',name='fc2')(outlayer)\n",
    "prediction = Dense(len(folders), activation = 'softmax')(outlayer)\n",
    "model = Model(inputs = vgg.input, outputs = prediction)"
   ]
  },
  {
   "cell_type": "code",
   "execution_count": 6,
   "id": "b0da946a",
   "metadata": {},
   "outputs": [
    {
     "name": "stdout",
     "output_type": "stream",
     "text": [
      "Model: \"model\"\n",
      "_________________________________________________________________\n",
      " Layer (type)                Output Shape              Param #   \n",
      "=================================================================\n",
      " input_1 (InputLayer)        [(None, 224, 224, 3)]     0         \n",
      "                                                                 \n",
      " block1_conv1 (Conv2D)       (None, 224, 224, 64)      1792      \n",
      "                                                                 \n",
      " block1_conv2 (Conv2D)       (None, 224, 224, 64)      36928     \n",
      "                                                                 \n",
      " block1_pool (MaxPooling2D)  (None, 112, 112, 64)      0         \n",
      "                                                                 \n",
      " block2_conv1 (Conv2D)       (None, 112, 112, 128)     73856     \n",
      "                                                                 \n",
      " block2_conv2 (Conv2D)       (None, 112, 112, 128)     147584    \n",
      "                                                                 \n",
      " block2_pool (MaxPooling2D)  (None, 56, 56, 128)       0         \n",
      "                                                                 \n",
      " block3_conv1 (Conv2D)       (None, 56, 56, 256)       295168    \n",
      "                                                                 \n",
      " block3_conv2 (Conv2D)       (None, 56, 56, 256)       590080    \n",
      "                                                                 \n",
      " block3_conv3 (Conv2D)       (None, 56, 56, 256)       590080    \n",
      "                                                                 \n",
      " block3_pool (MaxPooling2D)  (None, 28, 28, 256)       0         \n",
      "                                                                 \n",
      " block4_conv1 (Conv2D)       (None, 28, 28, 512)       1180160   \n",
      "                                                                 \n",
      " block4_conv2 (Conv2D)       (None, 28, 28, 512)       2359808   \n",
      "                                                                 \n",
      " block4_conv3 (Conv2D)       (None, 28, 28, 512)       2359808   \n",
      "                                                                 \n",
      " block4_pool (MaxPooling2D)  (None, 14, 14, 512)       0         \n",
      "                                                                 \n",
      " block5_conv1 (Conv2D)       (None, 14, 14, 512)       2359808   \n",
      "                                                                 \n",
      " block5_conv2 (Conv2D)       (None, 14, 14, 512)       2359808   \n",
      "                                                                 \n",
      " block5_conv3 (Conv2D)       (None, 14, 14, 512)       2359808   \n",
      "                                                                 \n",
      " block5_pool (MaxPooling2D)  (None, 7, 7, 512)         0         \n",
      "                                                                 \n",
      " flatten (Flatten)           (None, 25088)             0         \n",
      "                                                                 \n",
      " fc1 (Dense)                 (None, 4096)              102764544 \n",
      "                                                                 \n",
      " dropout (Dropout)           (None, 4096)              0         \n",
      "                                                                 \n",
      " fc2 (Dense)                 (None, 4096)              16781312  \n",
      "                                                                 \n",
      " dense (Dense)               (None, 10)                40970     \n",
      "                                                                 \n",
      "=================================================================\n",
      "Total params: 134,301,514\n",
      "Trainable params: 119,586,826\n",
      "Non-trainable params: 14,714,688\n",
      "_________________________________________________________________\n"
     ]
    }
   ],
   "source": [
    "model.summary()"
   ]
  },
  {
   "cell_type": "code",
   "execution_count": 7,
   "id": "f656e4a0",
   "metadata": {},
   "outputs": [],
   "source": [
    "model.compile(loss = 'categorical_crossentropy', optimizer = 'adam', metrics = ['accuracy'])"
   ]
  },
  {
   "cell_type": "code",
   "execution_count": 8,
   "id": "3d43d54c",
   "metadata": {},
   "outputs": [],
   "source": [
    "from tensorflow.keras.preprocessing.image import ImageDataGenerator"
   ]
  },
  {
   "cell_type": "code",
   "execution_count": 9,
   "id": "5aaa67fe",
   "metadata": {},
   "outputs": [],
   "source": [
    "#이미지 전처리 무작위 변형\n",
    "train_data_gen = ImageDataGenerator(rescale = 1./255, shear_range = 0.2 \\\n",
    "                                    , zoom_range = 0.2, horizontal_flip = True)"
   ]
  },
  {
   "cell_type": "code",
   "execution_count": 10,
   "id": "96481038",
   "metadata": {},
   "outputs": [
    {
     "name": "stdout",
     "output_type": "stream",
     "text": [
      "Found 18345 images belonging to 10 classes.\n"
     ]
    }
   ],
   "source": [
    "train_set = train_data_gen.flow_from_directory('D:/ST/trainData/Tomato_kaggle_train/', target_size = (224,224), batch_size = 32, class_mode = 'categorical')"
   ]
  },
  {
   "cell_type": "code",
   "execution_count": 11,
   "id": "d15aa4a5",
   "metadata": {},
   "outputs": [],
   "source": [
    "test_data_gen = ImageDataGenerator(rescale = 1./255)"
   ]
  },
  {
   "cell_type": "code",
   "execution_count": 12,
   "id": "e0dd807e",
   "metadata": {},
   "outputs": [
    {
     "name": "stdout",
     "output_type": "stream",
     "text": [
      "Found 4585 images belonging to 10 classes.\n"
     ]
    }
   ],
   "source": [
    "test_set = test_data_gen.flow_from_directory('D:/ST/trainData/Tomato_kaggle_test/', target_size = (224,224), batch_size = 32, class_mode = 'categorical')"
   ]
  },
  {
   "cell_type": "code",
   "execution_count": 13,
   "id": "e6c647c6",
   "metadata": {},
   "outputs": [
    {
     "name": "stderr",
     "output_type": "stream",
     "text": [
      "C:\\Users\\USER-PC\\AppData\\Local\\Temp\\ipykernel_7708\\1667835563.py:14: UserWarning: `Model.fit_generator` is deprecated and will be removed in a future version. Please use `Model.fit`, which supports generators.\n",
      "  mod = model.fit_generator(train_set,epochs=10, steps_per_epoch=len(train_set) \\\n"
     ]
    },
    {
     "name": "stdout",
     "output_type": "stream",
     "text": [
      "Epoch 1/10\n",
      "574/574 [==============================] - ETA: 0s - loss: 2.0196 - accuracy: 0.4351\n",
      "Epoch 00001: val_loss improved from inf to 1.01292, saving model to Tomato_model_checkpoint.h5\n",
      "574/574 [==============================] - 1576s 3s/step - loss: 2.0196 - accuracy: 0.4351 - val_loss: 1.0129 - val_accuracy: 0.6999\n",
      "Epoch 2/10\n",
      "574/574 [==============================] - ETA: 0s - loss: 1.2831 - accuracy: 0.5282\n",
      "Epoch 00002: val_loss improved from 1.01292 to 0.90933, saving model to Tomato_model_checkpoint.h5\n",
      "574/574 [==============================] - 1552s 3s/step - loss: 1.2831 - accuracy: 0.5282 - val_loss: 0.9093 - val_accuracy: 0.7276\n",
      "Epoch 3/10\n",
      "574/574 [==============================] - ETA: 0s - loss: 1.2399 - accuracy: 0.5484\n",
      "Epoch 00003: val_loss improved from 0.90933 to 0.77624, saving model to Tomato_model_checkpoint.h5\n",
      "574/574 [==============================] - 1545s 3s/step - loss: 1.2399 - accuracy: 0.5484 - val_loss: 0.7762 - val_accuracy: 0.8072\n",
      "Epoch 4/10\n",
      "574/574 [==============================] - ETA: 0s - loss: 1.1597 - accuracy: 0.5814\n",
      "Epoch 00004: val_loss did not improve from 0.77624\n",
      "574/574 [==============================] - 1502s 3s/step - loss: 1.1597 - accuracy: 0.5814 - val_loss: 0.9169 - val_accuracy: 0.7383\n",
      "Epoch 5/10\n",
      "574/574 [==============================] - ETA: 0s - loss: 1.1019 - accuracy: 0.6013\n",
      "Epoch 00005: val_loss did not improve from 0.77624\n",
      "574/574 [==============================] - 1428s 2s/step - loss: 1.1019 - accuracy: 0.6013 - val_loss: 0.8738 - val_accuracy: 0.7402\n",
      "Epoch 6/10\n",
      "574/574 [==============================] - ETA: 0s - loss: 1.0616 - accuracy: 0.6246\n",
      "Epoch 00006: val_loss improved from 0.77624 to 0.74819, saving model to Tomato_model_checkpoint.h5\n",
      "574/574 [==============================] - 1416s 2s/step - loss: 1.0616 - accuracy: 0.6246 - val_loss: 0.7482 - val_accuracy: 0.8026\n",
      "Epoch 7/10\n",
      "574/574 [==============================] - ETA: 0s - loss: 1.0114 - accuracy: 0.6456\n",
      "Epoch 00007: val_loss did not improve from 0.74819\n",
      "574/574 [==============================] - 1412s 2s/step - loss: 1.0114 - accuracy: 0.6456 - val_loss: 0.7786 - val_accuracy: 0.7867\n",
      "Epoch 8/10\n",
      "574/574 [==============================] - ETA: 0s - loss: 0.9931 - accuracy: 0.6523\n",
      "Epoch 00008: val_loss did not improve from 0.74819\n",
      "574/574 [==============================] - 1413s 2s/step - loss: 0.9931 - accuracy: 0.6523 - val_loss: 0.9632 - val_accuracy: 0.6901\n",
      "Epoch 9/10\n",
      "574/574 [==============================] - ETA: 0s - loss: 0.9541 - accuracy: 0.6653\n",
      "Epoch 00009: val_loss did not improve from 0.74819\n",
      "574/574 [==============================] - 1446s 3s/step - loss: 0.9541 - accuracy: 0.6653 - val_loss: 0.7956 - val_accuracy: 0.7754\n",
      "Epoch 10/10\n",
      "574/574 [==============================] - ETA: 0s - loss: 0.9211 - accuracy: 0.6796\n",
      "Epoch 00010: val_loss did not improve from 0.74819\n",
      "574/574 [==============================] - 1430s 2s/step - loss: 0.9211 - accuracy: 0.6796 - val_loss: 0.7904 - val_accuracy: 0.7852\n"
     ]
    }
   ],
   "source": [
    "from tensorflow.keras.callbacks import EarlyStopping, ModelCheckpoint \n",
    "\n",
    "path_checkpoint = \"Tomato_model_checkpoint.h5\"\n",
    "es_callback = EarlyStopping(monitor=\"val_loss\", min_delta=0, patience=5)\n",
    "modelckpt_callback = ModelCheckpoint(\n",
    "    monitor=\"val_loss\",\n",
    "    filepath=path_checkpoint,\n",
    "    verbose=1,\n",
    "    save_weights_only=True,\n",
    "    save_best_only=True,\n",
    ")\n",
    "\n",
    "with tf.device(\"/device:CPU:0\"):\n",
    "    mod = model.fit_generator(train_set,epochs=10, steps_per_epoch=len(train_set) \\\n",
    "                    ,callbacks=[es_callback, modelckpt_callback] \\\n",
    "                    ,validation_data=test_set, validation_steps=len(test_set))"
   ]
  },
  {
   "cell_type": "code",
   "execution_count": 18,
   "id": "1719f816",
   "metadata": {},
   "outputs": [
    {
     "name": "stdout",
     "output_type": "stream",
     "text": [
      "INFO:tensorflow:Assets written to: Model_Kaggle\\assets\n"
     ]
    },
    {
     "ename": "NameError",
     "evalue": "name 'keras' is not defined",
     "output_type": "error",
     "traceback": [
      "\u001b[1;31m---------------------------------------------------------------\u001b[0m",
      "\u001b[1;31mNameError\u001b[0m                     Traceback (most recent call last)",
      "Input \u001b[1;32mIn [18]\u001b[0m, in \u001b[0;36m<cell line: 2>\u001b[1;34m()\u001b[0m\n\u001b[0;32m      1\u001b[0m model\u001b[38;5;241m.\u001b[39msave(\u001b[38;5;124m\"\u001b[39m\u001b[38;5;124mModel_Kaggle\u001b[39m\u001b[38;5;124m\"\u001b[39m)\n\u001b[1;32m----> 2\u001b[0m model_k \u001b[38;5;241m=\u001b[39m \u001b[43mkeras\u001b[49m\u001b[38;5;241m.\u001b[39mmodels\u001b[38;5;241m.\u001b[39mload_model(\u001b[38;5;124m\"\u001b[39m\u001b[38;5;124mTomato_model_checkpoint.h5\u001b[39m\u001b[38;5;124m\"\u001b[39m)\n",
      "\u001b[1;31mNameError\u001b[0m: name 'keras' is not defined"
     ]
    }
   ],
   "source": [
    "model.save(\"Model_Kaggle\")"
   ]
  },
  {
   "cell_type": "code",
   "execution_count": null,
   "id": "9363dce1",
   "metadata": {},
   "outputs": [],
   "source": []
  }
 ],
 "metadata": {
  "kernelspec": {
   "display_name": "Python 3 (ipykernel)",
   "language": "python",
   "name": "python3"
  },
  "language_info": {
   "codemirror_mode": {
    "name": "ipython",
    "version": 3
   },
   "file_extension": ".py",
   "mimetype": "text/x-python",
   "name": "python",
   "nbconvert_exporter": "python",
   "pygments_lexer": "ipython3",
   "version": "3.8.13"
  }
 },
 "nbformat": 4,
 "nbformat_minor": 5
}
